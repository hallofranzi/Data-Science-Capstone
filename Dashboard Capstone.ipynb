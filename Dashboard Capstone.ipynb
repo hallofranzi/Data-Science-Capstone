{
 "cells": [
  {
   "cell_type": "code",
   "execution_count": 16,
   "id": "47d17ed1",
   "metadata": {},
   "outputs": [
    {
     "name": "stdout",
     "output_type": "stream",
     "text": [
      "Dash app running on http://127.0.0.1:8055/\n"
     ]
    },
    {
     "data": {
      "application/javascript": [
       "window.open('http://127.0.0.1:8055/')"
      ],
      "text/plain": [
       "<IPython.core.display.Javascript object>"
      ]
     },
     "metadata": {},
     "output_type": "display_data"
    }
   ],
   "source": [
    "from dash import Dash, html, dcc, callback, Output, Input\n",
    "import plotly.express as px\n",
    "import pandas as pd\n",
    "\n",
    "df = pd.read_csv(\"https://cf-courses-data.s3.us.cloud-object-storage.appdomain.cloud/IBM-DS0321EN-SkillsNetwork/datasets/spacex_launch_dash.csv\")\n",
    "\n",
    "\n",
    "app = Dash(__name__)\n",
    "\n",
    "\n",
    "\n",
    "all_site_dict = [{'label': 'All Sites', 'value': 'All Sites'}]\n",
    "sites_dict = [{'label': i, 'value': i} for i in df['Launch Site'].unique()]\n",
    "\n",
    "app.layout = html.Div([\n",
    "    html.H1(children='SpaceX Launch Records Dashboard', style={'textAlign':'center', 'colors':'#503D36', 'fontsize':24}),\n",
    "    html.Label(\"Select Launch Site:\"),\n",
    "    dcc.Dropdown(id='site-dropdown',\n",
    "                options= all_site_dict + sites_dict,\n",
    "                value= 'ALL', placeholder=\"All Sites\",searchable=True),  \n",
    "    \n",
    "    dcc.Graph(id=\"success-pie-chart\"),\n",
    "    \n",
    "    dcc.Graph(id = \"success-payload-scatter-chart\"),\n",
    "    \n",
    "    dcc.RangeSlider(id='payload-slider',\n",
    "                min=0, max=10000, step=1000, marks={0: '0',1000: '1000', 2000: '2000',3000: '3000', 4000: '4000',\n",
    "                       5000: '5000',6000: '6000',7000: '7000',8000: '8000',9000: '9000',10000: '10000'},\n",
    "                    value = [2500, 8000])\n",
    "                #value=[df[\"Payload Mass (kg)\"].min(), df[\"Payload Mass (kg)\"].max()])\n",
    "\n",
    "    \n",
    "])\n",
    "\n",
    "# Function decorator to specify function input and output\n",
    "@app.callback(Output(component_id='success-pie-chart', component_property='figure'),\n",
    "              Input(component_id='site-dropdown', component_property='value'))\n",
    "\n",
    "\n",
    "def get_pie_chart(entered_site):\n",
    "    \n",
    "    if entered_site == 'ALL':\n",
    "        filtered_df = df.loc[df['class'] == 1]\n",
    "        fig = px.pie(filtered_df, \n",
    "        names=filtered_df['Launch Site'], \n",
    "        title='Total Success Launches By Site')\n",
    "        return fig\n",
    "    \n",
    "    elif entered_site == 'All Sites':\n",
    "        filtered_df = df.loc[df['class'] == 1]\n",
    "        fig = px.pie(filtered_df,\n",
    "        names=filtered_df['Launch Site'], \n",
    "        title='Total Success Launches By Site')\n",
    "        return fig\n",
    "     \n",
    "    else:\n",
    "        filtered_df = df.loc[df['Launch Site'] == entered_site]\n",
    "        fig = px.pie(filtered_df, names = filtered_df['class'], \n",
    "        title='Total Success Launches' + \" \" + entered_site)\n",
    "        return fig\n",
    "\n",
    "\n",
    "@app.callback(Output(component_id='success-payload-scatter-chart', component_property='figure'),\n",
    "              Input(component_id='site-dropdown', component_property='value'))\n",
    "\n",
    "def get_scatter_chart(entered_site):\n",
    "\n",
    "    if entered_site == \"ALL\":\n",
    "        fig = px.scatter(y = df[\"class\"], x = df[\"Payload Mass (kg)\"], color = df[\"Booster Version Category\"], \n",
    "                         labels={ \"x\": \" Payload Mass (kg)\", \"y\": \"Class\", \"color\": \"Booster Version Category\"}, \n",
    "                         title = \"Correlation between Payload and Mission Outcome\")\n",
    "        return fig\n",
    "                     \n",
    "                     \n",
    "    elif entered_site == 'All Sites':\n",
    "        fig = px.scatter(y = df[\"class\"], x = df[\"Payload Mass (kg)\"], color = df[\"Booster Version Category\"],\n",
    "                         labels={ \"x\": \" Payload Mass (kg)\", \"y\": \"Class\", \"color\": \"Booster Version Category\"}, \n",
    "                         title = \"Correlation between Payload and Mission Outcome\" )\n",
    "        return fig\n",
    "     \n",
    "    else:\n",
    "        filtered_df = df.loc[df['Launch Site'] == entered_site]\n",
    "        fig = px.scatter(y = filtered_df[\"class\"], x = filtered_df[\"Payload Mass (kg)\"], color = filtered_df[\"Booster Version Category\"],\n",
    "                        labels={ \"x\": \" Payload Mass (kg)\", \"y\": \"Class\", \"color\": \"Booster Version Category\"}, \n",
    "                         title = \"Correlation between Payload and Mission Outcome\")\n",
    "        return fig\n",
    "\n",
    "    \n",
    "if __name__ == '__main__':\n",
    "       app.run(jupyter_mode=\"tab\", debug=True, port=8055)"
   ]
  },
  {
   "cell_type": "code",
   "execution_count": 8,
   "id": "6cefd344-8b7e-40ec-ace5-bf61f36e03f2",
   "metadata": {},
   "outputs": [
    {
     "data": {
      "text/html": [
       "<div>\n",
       "<style scoped>\n",
       "    .dataframe tbody tr th:only-of-type {\n",
       "        vertical-align: middle;\n",
       "    }\n",
       "\n",
       "    .dataframe tbody tr th {\n",
       "        vertical-align: top;\n",
       "    }\n",
       "\n",
       "    .dataframe thead th {\n",
       "        text-align: right;\n",
       "    }\n",
       "</style>\n",
       "<table border=\"1\" class=\"dataframe\">\n",
       "  <thead>\n",
       "    <tr style=\"text-align: right;\">\n",
       "      <th></th>\n",
       "      <th>Unnamed: 0</th>\n",
       "      <th>Flight Number</th>\n",
       "      <th>Launch Site</th>\n",
       "      <th>class</th>\n",
       "      <th>Payload Mass (kg)</th>\n",
       "      <th>Booster Version</th>\n",
       "      <th>Booster Version Category</th>\n",
       "    </tr>\n",
       "  </thead>\n",
       "  <tbody>\n",
       "    <tr>\n",
       "      <th>0</th>\n",
       "      <td>0</td>\n",
       "      <td>1</td>\n",
       "      <td>CCAFS LC-40</td>\n",
       "      <td>0</td>\n",
       "      <td>0.0</td>\n",
       "      <td>F9 v1.0  B0003</td>\n",
       "      <td>v1.0</td>\n",
       "    </tr>\n",
       "    <tr>\n",
       "      <th>1</th>\n",
       "      <td>1</td>\n",
       "      <td>2</td>\n",
       "      <td>CCAFS LC-40</td>\n",
       "      <td>0</td>\n",
       "      <td>0.0</td>\n",
       "      <td>F9 v1.0  B0004</td>\n",
       "      <td>v1.0</td>\n",
       "    </tr>\n",
       "    <tr>\n",
       "      <th>2</th>\n",
       "      <td>2</td>\n",
       "      <td>3</td>\n",
       "      <td>CCAFS LC-40</td>\n",
       "      <td>0</td>\n",
       "      <td>525.0</td>\n",
       "      <td>F9 v1.0  B0005</td>\n",
       "      <td>v1.0</td>\n",
       "    </tr>\n",
       "    <tr>\n",
       "      <th>3</th>\n",
       "      <td>3</td>\n",
       "      <td>4</td>\n",
       "      <td>CCAFS LC-40</td>\n",
       "      <td>0</td>\n",
       "      <td>500.0</td>\n",
       "      <td>F9 v1.0  B0006</td>\n",
       "      <td>v1.0</td>\n",
       "    </tr>\n",
       "    <tr>\n",
       "      <th>4</th>\n",
       "      <td>4</td>\n",
       "      <td>5</td>\n",
       "      <td>CCAFS LC-40</td>\n",
       "      <td>0</td>\n",
       "      <td>677.0</td>\n",
       "      <td>F9 v1.0  B0007</td>\n",
       "      <td>v1.0</td>\n",
       "    </tr>\n",
       "  </tbody>\n",
       "</table>\n",
       "</div>"
      ],
      "text/plain": [
       "   Unnamed: 0  Flight Number  Launch Site  class  Payload Mass (kg)  \\\n",
       "0           0              1  CCAFS LC-40      0                0.0   \n",
       "1           1              2  CCAFS LC-40      0                0.0   \n",
       "2           2              3  CCAFS LC-40      0              525.0   \n",
       "3           3              4  CCAFS LC-40      0              500.0   \n",
       "4           4              5  CCAFS LC-40      0              677.0   \n",
       "\n",
       "  Booster Version Booster Version Category  \n",
       "0  F9 v1.0  B0003                     v1.0  \n",
       "1  F9 v1.0  B0004                     v1.0  \n",
       "2  F9 v1.0  B0005                     v1.0  \n",
       "3  F9 v1.0  B0006                     v1.0  \n",
       "4  F9 v1.0  B0007                     v1.0  "
      ]
     },
     "execution_count": 8,
     "metadata": {},
     "output_type": "execute_result"
    }
   ],
   "source": [
    "df.head()"
   ]
  },
  {
   "cell_type": "code",
   "execution_count": 159,
   "id": "42b6989e-5dcc-4481-b720-0f6e02524f1b",
   "metadata": {},
   "outputs": [
    {
     "data": {
      "text/plain": [
       "9600.0"
      ]
     },
     "execution_count": 159,
     "metadata": {},
     "output_type": "execute_result"
    }
   ],
   "source": [
    "df[\"Payload Mass (kg)\"].max()"
   ]
  },
  {
   "cell_type": "code",
   "execution_count": 47,
   "id": "30958b80",
   "metadata": {},
   "outputs": [
    {
     "data": {
      "text/plain": [
       "[{'label': 'All Sites', 'value': 'All Sites'},\n",
       " {'label': 'CCAFS LC-40', 'value': 'CCAFS LC-40'},\n",
       " {'label': 'VAFB SLC-4E', 'value': 'VAFB SLC-4E'},\n",
       " {'label': 'KSC LC-39A', 'value': 'KSC LC-39A'},\n",
       " {'label': 'CCAFS SLC-40', 'value': 'CCAFS SLC-40'}]"
      ]
     },
     "execution_count": 47,
     "metadata": {},
     "output_type": "execute_result"
    }
   ],
   "source": [
    "all_site_dict + sites_dict\n"
   ]
  },
  {
   "cell_type": "code",
   "execution_count": null,
   "id": "c819f288-fc4e-425b-9242-b9819363722b",
   "metadata": {},
   "outputs": [],
   "source": []
  }
 ],
 "metadata": {
  "kernelspec": {
   "display_name": "Python 3 (ipykernel)",
   "language": "python",
   "name": "python3"
  },
  "language_info": {
   "codemirror_mode": {
    "name": "ipython",
    "version": 3
   },
   "file_extension": ".py",
   "mimetype": "text/x-python",
   "name": "python",
   "nbconvert_exporter": "python",
   "pygments_lexer": "ipython3",
   "version": "3.7.13"
  }
 },
 "nbformat": 4,
 "nbformat_minor": 5
}
